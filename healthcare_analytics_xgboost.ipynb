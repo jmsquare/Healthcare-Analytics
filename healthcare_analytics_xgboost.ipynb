{
 "cells": [
  {
   "cell_type": "markdown",
   "metadata": {},
   "source": [
    "## Healthcare Analytics\n",
    "Predict the Length of a patient's stay at the hospital"
   ]
  },
  {
   "cell_type": "markdown",
   "source": [
    "### Import libraries"
   ],
   "metadata": {
    "collapsed": false
   }
  },
  {
   "cell_type": "code",
   "execution_count": 1,
   "metadata": {
    "ExecuteTime": {
     "end_time": "2023-10-13T16:20:23.915149Z",
     "start_time": "2023-10-13T16:20:23.845837Z"
    }
   },
   "outputs": [],
   "source": [
    "import warnings\n",
    "warnings.filterwarnings('ignore')\n",
    "\n",
    "import pandas as pd\n",
    "from xgboost import XGBClassifier\n",
    "from sklearn.pipeline import Pipeline\n",
    "from sklearn.impute import SimpleImputer\n",
    "from sklearn.metrics import accuracy_score\n",
    "from sklearn.compose import ColumnTransformer\n",
    "from sklearn.model_selection import train_test_split\n",
    "from sklearn.preprocessing import LabelEncoder, StandardScaler, OrdinalEncoder"
   ]
  },
  {
   "cell_type": "code",
   "execution_count": 2,
   "outputs": [],
   "source": [
    "import yaml\n",
    "\n",
    "with open('hyper-parameters.yaml', 'r') as file:\n",
    "    hyper_parameters = yaml.safe_load(file)"
   ],
   "metadata": {
    "collapsed": false
   }
  },
  {
   "cell_type": "markdown",
   "source": [
    "### Define constants"
   ],
   "metadata": {
    "collapsed": false
   }
  },
  {
   "cell_type": "code",
   "execution_count": 3,
   "outputs": [],
   "source": [
    "# Constants.\n",
    "COLUMN_TYPES = {\n",
    "    'Hospital_code': 'category',\n",
    "    'Hospital_type_code': 'category',\n",
    "    'City_Code_Hospital': 'category',\n",
    "    'Hospital_region_code': 'category',\n",
    "    'Department': 'category',\n",
    "    'Ward_Type': 'category',\n",
    "    'Ward_Facility_Code': 'category',\n",
    "    'Bed Grade': 'category',\n",
    "    'City_Code_Patient': 'category',\n",
    "    'Type of Admission': 'category',\n",
    "    'Severity of Illness': 'category',\n",
    "    'Age': 'category',\n",
    "    'Available Extra Rooms in Hospital': 'numeric',\n",
    "    'Visitors with Patient': 'numeric',\n",
    "    'Admission_Deposit': 'numeric'\n",
    "}\n",
    "\n",
    "TARGET_COLUMN_NAME = \"Stay\"\n",
    "\n",
    "NUMERICAL_FEATURES = [key for key in COLUMN_TYPES.keys() if COLUMN_TYPES[key] == \"numeric\"]\n",
    "CATEGORICAL_FEATURES = [key for key in COLUMN_TYPES.keys() if COLUMN_TYPES[key] == \"category\"]"
   ],
   "metadata": {
    "collapsed": false,
    "ExecuteTime": {
     "end_time": "2023-10-13T16:20:24.578118Z",
     "start_time": "2023-10-13T16:20:24.564449Z"
    }
   }
  },
  {
   "cell_type": "markdown",
   "source": [
    "### Load and prepare data"
   ],
   "metadata": {
    "collapsed": false
   }
  },
  {
   "cell_type": "code",
   "execution_count": 4,
   "metadata": {
    "ExecuteTime": {
     "end_time": "2023-10-13T16:20:29.361419Z",
     "start_time": "2023-10-13T16:20:26.334739Z"
    }
   },
   "outputs": [],
   "source": [
    "# Importing datasets\n",
    "import zipfile\n",
    "with zipfile.ZipFile(\"Datasets.zip\", 'r') as zip_ref:\n",
    "    with zip_ref.open(\"train.csv\") as f:\n",
    "        patients_df = pd.read_csv(f)\n",
    "    with zip_ref.open(\"test.csv\") as f:\n",
    "        test = pd.read_csv(f)"
   ]
  },
  {
   "cell_type": "markdown",
   "source": [
    "### Preprocess target column"
   ],
   "metadata": {
    "collapsed": false
   }
  },
  {
   "cell_type": "code",
   "execution_count": 5,
   "outputs": [],
   "source": [
    "le = LabelEncoder()\n",
    "patients_df[TARGET_COLUMN_NAME] = le.fit_transform(patients_df[TARGET_COLUMN_NAME])"
   ],
   "metadata": {
    "collapsed": false,
    "ExecuteTime": {
     "end_time": "2023-10-13T16:20:32.772594Z",
     "start_time": "2023-10-13T16:20:32.677612Z"
    }
   }
  },
  {
   "cell_type": "markdown",
   "source": [
    "### Train-test split"
   ],
   "metadata": {
    "collapsed": false
   }
  },
  {
   "cell_type": "code",
   "execution_count": 6,
   "outputs": [],
   "source": [
    "X_train, X_test, y_train, y_test = train_test_split(patients_df.drop('Stay', axis=1), \n",
    "                                                    patients_df['Stay'], \n",
    "                                                    **hyper_parameters[\"train_test_split\"])"
   ],
   "metadata": {
    "collapsed": false,
    "ExecuteTime": {
     "end_time": "2023-10-13T16:20:34.465515Z",
     "start_time": "2023-10-13T16:20:34.280535Z"
    }
   }
  },
  {
   "cell_type": "markdown",
   "source": [
    "### Defining the preprocessing steps"
   ],
   "metadata": {
    "collapsed": false
   }
  },
  {
   "cell_type": "code",
   "execution_count": 7,
   "outputs": [],
   "source": [
    "numeric_transformer = Pipeline(steps=[\n",
    "    (\"imputer\", SimpleImputer(strategy=\"median\")),\n",
    "    (\"scaler\", StandardScaler())\n",
    "])\n",
    "\n",
    "categorical_transformer = Pipeline([\n",
    "    (\"imputer\", SimpleImputer(strategy=\"most_frequent\")),\n",
    "    (\"ordinal\", OrdinalEncoder()),\n",
    "])\n",
    "\n",
    "preprocessor = ColumnTransformer(transformers=[\n",
    "    (\"num\", numeric_transformer, NUMERICAL_FEATURES),\n",
    "    (\"cat\", categorical_transformer, CATEGORICAL_FEATURES),\n",
    "])"
   ],
   "metadata": {
    "collapsed": false,
    "ExecuteTime": {
     "end_time": "2023-10-13T16:20:37.168376Z",
     "start_time": "2023-10-13T16:20:37.156746Z"
    }
   }
  },
  {
   "cell_type": "markdown",
   "metadata": {},
   "source": [
    "### Training the XGBoost model"
   ]
  },
  {
   "cell_type": "code",
   "execution_count": 9,
   "outputs": [
    {
     "name": "stdout",
     "output_type": "stream",
     "text": [
      "Train accuracy:  0.4469\n",
      "Test accuracy:  0.4249\n"
     ]
    }
   ],
   "source": [
    "pipeline = Pipeline(steps=[\n",
    "    (\"preprocessor\", preprocessor),\n",
    "    (\"classifier\", XGBClassifier(**hyper_parameters[\"XGBClassifier\"]))\n",
    "])\n",
    "\n",
    "pipeline.fit(X_train, y_train)\n",
    "\n",
    "y_train_pred = pipeline.predict(X_train)\n",
    "y_test_pred = pipeline.predict(X_test)\n",
    "\n",
    "print(f\"Train accuracy: {accuracy_score(y_train, y_train_pred): .4f}\")\n",
    "print(f\"Test accuracy: {accuracy_score(y_test, y_test_pred): .4f}\")"
   ],
   "metadata": {
    "collapsed": false,
    "ExecuteTime": {
     "end_time": "2023-10-13T16:02:42.606826Z",
     "start_time": "2023-10-13T16:02:15.987221Z"
    }
   }
  },
  {
   "cell_type": "markdown",
   "source": [
    "### Preparation for the CI/CD pipeline"
   ],
   "metadata": {
    "collapsed": false
   }
  },
  {
   "cell_type": "code",
   "execution_count": 11,
   "outputs": [
    {
     "name": "stdout",
     "output_type": "stream",
     "text": [
      "Your model and dataset are successfully dumped for CI/CD.\n"
     ]
    }
   ],
   "source": [
    "import pathlib\n",
    "from giskard import Dataset, Model\n",
    "\n",
    "raw_data = pd.concat([X_test, y_test], axis=1)\n",
    "\n",
    "wrapped_data = Dataset(\n",
    "    df=raw_data,\n",
    "    name=\"Patients data\",\n",
    "    target=TARGET_COLUMN_NAME,\n",
    "    cat_columns=CATEGORICAL_FEATURES\n",
    ")\n",
    "\n",
    "wrapped_model = Model(\n",
    "    model=pipeline,\n",
    "    model_type=\"classification\",\n",
    "    name=\"Patients stay period classifier [XGBoost]\",\n",
    "    classification_labels=pipeline.classes_.tolist(),\n",
    "    feature_names=COLUMN_TYPES.keys()\n",
    ")\n",
    "\n",
    "# dumping\n",
    "pathlib.Path(\"model\").mkdir(parents=True)\n",
    "pathlib.Path(\"dataset\").mkdir(parents=True)\n",
    "wrapped_data.save(pathlib.Path(\"dataset\"), 0)\n",
    "wrapped_model.save(pathlib.Path(\"model\"))\n",
    "print(\"Your model and dataset are successfully dumped for CI/CD.\")"
   ],
   "metadata": {
    "collapsed": false,
    "ExecuteTime": {
     "end_time": "2023-10-13T16:02:47.639050Z",
     "start_time": "2023-10-13T16:02:42.612874Z"
    }
   }
  },
  {
   "cell_type": "code",
   "execution_count": null,
   "outputs": [],
   "source": [],
   "metadata": {
    "collapsed": false
   }
  }
 ],
 "metadata": {
  "kernelspec": {
   "display_name": "Python 3",
   "language": "python",
   "name": "python3"
  },
  "language_info": {
   "codemirror_mode": {
    "name": "ipython",
    "version": 3
   },
   "file_extension": ".py",
   "mimetype": "text/x-python",
   "name": "python",
   "nbconvert_exporter": "python",
   "pygments_lexer": "ipython3",
   "version": "3.8.3"
  },
  "varInspector": {
   "cols": {
    "lenName": 16,
    "lenType": 16,
    "lenVar": 40
   },
   "kernels_config": {
    "python": {
     "delete_cmd_postfix": "",
     "delete_cmd_prefix": "del ",
     "library": "var_list.py",
     "varRefreshCmd": "print(var_dic_list())"
    },
    "r": {
     "delete_cmd_postfix": ") ",
     "delete_cmd_prefix": "rm(",
     "library": "var_list.r",
     "varRefreshCmd": "cat(var_dic_list()) "
    }
   },
   "position": {
    "height": "234px",
    "left": "1112px",
    "right": "20px",
    "top": "157px",
    "width": "330px"
   },
   "types_to_exclude": [
    "module",
    "function",
    "builtin_function_or_method",
    "instance",
    "_Feature"
   ],
   "window_display": false
  }
 },
 "nbformat": 4,
 "nbformat_minor": 4
}
